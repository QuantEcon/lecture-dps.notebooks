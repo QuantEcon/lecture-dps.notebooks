{
 "cells": [
  {
   "cell_type": "markdown",
   "id": "a8713ad7",
   "metadata": {},
   "source": [
    "# Execution Statistics\n",
    "\n",
    "This table contains the latest execution statistics.\n",
    "\n",
    "[](https://dps.quantecon.org/amss.html)[](https://dps.quantecon.org/amss2.html)[](https://dps.quantecon.org/amss3.html)[](https://dps.quantecon.org/calvo.html)[](https://dps.quantecon.org/chang_credible.html)[](https://dps.quantecon.org/chang_ramsey.html)[](https://dps.quantecon.org/dyn_stack.html)[](https://dps.quantecon.org/intro.html)[](https://dps.quantecon.org/opt_tax_recur.html)[](https://dps.quantecon.org/.html)[](https://dps.quantecon.org/troubleshooting.html)[](https://dps.quantecon.org/un_insure.html)[](https://dps.quantecon.org/zreferences.html)|Document|Modified|Method|Run Time (s)|Status|\n",
    "|:------------------:|:------------------:|:------------------:|:------------------:|:------------------:|\n",
    "|amss|2024-01-30 02:46|cache|198.39|✅|\n",
    "|amss2|2024-01-30 02:47|cache|61.18|✅|\n",
    "|amss3|2024-01-30 02:51|cache|274.4|✅|\n",
    "|calvo|2024-01-30 02:51|cache|6.97|✅|\n",
    "|chang_credible|2024-01-30 02:54|cache|174.03|✅|\n",
    "|chang_ramsey|2024-01-30 03:00|cache|348.77|✅|\n",
    "|dyn_stack|2024-01-30 03:00|cache|7.89|✅|\n",
    "|intro|2024-01-30 03:00|cache|0.97|✅|\n",
    "|opt_tax_recur|2024-01-30 03:01|cache|73.54|✅|\n",
    "|status|2024-01-30 03:00|cache|0.97|✅|\n",
    "|troubleshooting|2024-01-30 03:00|cache|0.97|✅|\n",
    "|un_insure|2024-01-30 03:02|cache|12.16|✅|\n",
    "|zreferences|2024-01-30 03:00|cache|0.97|✅|\n",
    "\n",
    "<a id='status-machine-details'></a>\n",
    "These lectures are built on `linux` instances through `github actions` so are\n",
    "executed using the following [hardware specifications](https://docs.github.com/en/actions/reference/specifications-for-github-hosted-runners#supported-runners-and-hardware-resources)"
   ]
  }
 ],
 "metadata": {
  "date": 1706584111.258182,
  "filename": "status.md",
  "kernelspec": {
   "display_name": "Python",
   "language": "python3",
   "name": "python3"
  },
  "title": "Execution Statistics"
 },
 "nbformat": 4,
 "nbformat_minor": 5
}
{
 "cells": [
  {
   "cell_type": "markdown",
   "id": "ab68ef06",
   "metadata": {},
   "source": [
    "# Execution Statistics\n",
    "\n",
    "This table contains the latest execution statistics.\n",
    "\n",
    "[](https://dps.quantecon.org/amss.html)[](https://dps.quantecon.org/amss2.html)[](https://dps.quantecon.org/amss3.html)[](https://dps.quantecon.org/calvo.html)[](https://dps.quantecon.org/chang_credible.html)[](https://dps.quantecon.org/chang_ramsey.html)[](https://dps.quantecon.org/dyn_stack.html)[](https://dps.quantecon.org/intro.html)[](https://dps.quantecon.org/opt_tax_recur.html)[](https://dps.quantecon.org/.html)[](https://dps.quantecon.org/troubleshooting.html)[](https://dps.quantecon.org/un_insure.html)[](https://dps.quantecon.org/zreferences.html)|Document|Modified|Method|Run Time (s)|Status|\n",
    "|:------------------:|:------------------:|:------------------:|:------------------:|:------------------:|\n",
    "|amss|2024-01-24 00:40|cache|197.92|✅|\n",
    "|amss2|2024-01-24 00:41|cache|61.22|✅|\n",
    "|amss3|2024-01-24 00:46|cache|273.45|✅|\n",
    "|calvo|2024-01-24 00:46|cache|6.98|✅|\n",
    "|chang_credible|2024-01-24 00:49|cache|174.78|✅|\n",
    "|chang_ramsey|2024-01-24 00:55|cache|354.24|✅|\n",
    "|dyn_stack|2024-01-24 00:55|cache|8.09|✅|\n",
    "|intro|2024-01-24 00:55|cache|0.98|✅|\n",
    "|opt_tax_recur|2024-01-24 00:56|cache|72.67|✅|\n",
    "|status|2024-01-24 00:55|cache|0.98|✅|\n",
    "|troubleshooting|2024-01-24 00:55|cache|0.98|✅|\n",
    "|un_insure|2024-01-24 00:56|cache|11.96|✅|\n",
    "|zreferences|2024-01-24 00:55|cache|0.98|✅|\n",
    "\n",
    "<a id='status-machine-details'></a>\n",
    "These lectures are built on `linux` instances through `github actions` so are\n",
    "executed using the following [hardware specifications](https://docs.github.com/en/actions/reference/specifications-for-github-hosted-runners#supported-runners-and-hardware-resources)"
   ]
  }
 ],
 "metadata": {
  "date": 1706245326.498194,
  "filename": "status.md",
  "kernelspec": {
   "display_name": "Python",
   "language": "python3",
   "name": "python3"
  },
  "title": "Execution Statistics"
 },
 "nbformat": 4,
 "nbformat_minor": 5
}
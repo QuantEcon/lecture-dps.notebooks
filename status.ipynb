{
 "cells": [
  {
   "cell_type": "markdown",
   "id": "14e0c227",
   "metadata": {},
   "source": [
    "# Execution Statistics\n",
    "\n",
    "This table contains the latest execution statistics.\n",
    "\n",
    "[](https://dps.quantecon.org/amss.html)[](https://dps.quantecon.org/amss2.html)[](https://dps.quantecon.org/amss3.html)[](https://dps.quantecon.org/calvo.html)[](https://dps.quantecon.org/chang_credible.html)[](https://dps.quantecon.org/chang_ramsey.html)[](https://dps.quantecon.org/dyn_stack.html)[](https://dps.quantecon.org/intro.html)[](https://dps.quantecon.org/opt_tax_recur.html)[](https://dps.quantecon.org/.html)[](https://dps.quantecon.org/troubleshooting.html)[](https://dps.quantecon.org/un_insure.html)[](https://dps.quantecon.org/zreferences.html)|Document|Modified|Method|Run Time (s)|Status|\n",
    "|:------------------:|:------------------:|:------------------:|:------------------:|:------------------:|\n",
    "|amss|2024-01-30 05:10|cache|198.83|✅|\n",
    "|amss2|2024-01-30 05:11|cache|61.23|✅|\n",
    "|amss3|2024-01-30 05:16|cache|276.77|✅|\n",
    "|calvo|2024-01-30 05:16|cache|6.82|✅|\n",
    "|chang_credible|2024-01-30 05:19|cache|174.96|✅|\n",
    "|chang_ramsey|2024-01-30 05:24|cache|351.84|✅|\n",
    "|dyn_stack|2024-01-30 05:25|cache|8.08|✅|\n",
    "|intro|2024-01-30 05:25|cache|0.95|✅|\n",
    "|opt_tax_recur|2024-01-30 05:26|cache|72.75|✅|\n",
    "|status|2024-01-30 05:25|cache|0.95|✅|\n",
    "|troubleshooting|2024-01-30 05:25|cache|0.95|✅|\n",
    "|un_insure|2024-01-30 05:26|cache|11.83|✅|\n",
    "|zreferences|2024-01-30 05:25|cache|0.95|✅|\n",
    "\n",
    "<a id='status-machine-details'></a>\n",
    "These lectures are built on `linux` instances through `github actions` so are\n",
    "executed using the following [hardware specifications](https://docs.github.com/en/actions/reference/specifications-for-github-hosted-runners#supported-runners-and-hardware-resources)"
   ]
  }
 ],
 "metadata": {
  "date": 1708319659.0270205,
  "filename": "status.md",
  "kernelspec": {
   "display_name": "Python",
   "language": "python3",
   "name": "python3"
  },
  "title": "Execution Statistics"
 },
 "nbformat": 4,
 "nbformat_minor": 5
}
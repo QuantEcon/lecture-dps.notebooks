{
 "cells": [
  {
   "cell_type": "markdown",
   "id": "69376aa6",
   "metadata": {},
   "source": [
    "# Execution Statistics\n",
    "\n",
    "This table contains the latest execution statistics.\n",
    "\n",
    "[](https://dps.quantecon.org/amss.html)[](https://dps.quantecon.org/amss2.html)[](https://dps.quantecon.org/amss3.html)[](https://dps.quantecon.org/calvo.html)[](https://dps.quantecon.org/chang_credible.html)[](https://dps.quantecon.org/chang_ramsey.html)[](https://dps.quantecon.org/dyn_stack.html)[](https://dps.quantecon.org/intro.html)[](https://dps.quantecon.org/opt_tax_recur.html)[](https://dps.quantecon.org/.html)[](https://dps.quantecon.org/troubleshooting.html)[](https://dps.quantecon.org/un_insure.html)[](https://dps.quantecon.org/zreferences.html)|Document|Modified|Method|Run Time (s)|Status|\n",
    "|:------------------:|:------------------:|:------------------:|:------------------:|:------------------:|\n",
    "|amss|2024-05-01 01:41|cache|193.55|✅|\n",
    "|amss2|2024-05-01 01:42|cache|54.87|✅|\n",
    "|amss3|2024-05-01 01:46|cache|244.51|✅|\n",
    "|calvo|2024-05-01 01:46|cache|6.01|✅|\n",
    "|chang_credible|2024-05-01 01:49|cache|172.4|✅|\n",
    "|chang_ramsey|2024-05-01 01:55|cache|337.37|✅|\n",
    "|dyn_stack|2024-05-01 01:55|cache|7.28|✅|\n",
    "|intro|2024-05-01 01:55|cache|4.02|✅|\n",
    "|opt_tax_recur|2024-05-01 01:56|cache|72.12|✅|\n",
    "|status|2024-05-01 01:56|cache|4.87|✅|\n",
    "|troubleshooting|2024-05-01 01:55|cache|4.02|✅|\n",
    "|un_insure|2024-05-01 01:57|cache|11.48|✅|\n",
    "|zreferences|2024-05-01 01:55|cache|4.02|✅|\n",
    "\n",
    "<a id='status-machine-details'></a>\n",
    "These lectures are built on `linux` instances through `github actions`.\n",
    "\n",
    "These lectures are using the following python version"
   ]
  },
  {
   "cell_type": "code",
   "execution_count": null,
   "id": "2dc5a554",
   "metadata": {
    "hide-output": false
   },
   "outputs": [],
   "source": [
    "!python --version"
   ]
  },
  {
   "cell_type": "markdown",
   "id": "17529dbd",
   "metadata": {},
   "source": [
    "and the following package versions"
   ]
  },
  {
   "cell_type": "code",
   "execution_count": null,
   "id": "46c0cd49",
   "metadata": {
    "hide-output": false
   },
   "outputs": [],
   "source": [
    "!conda list"
   ]
  }
 ],
 "metadata": {
  "date": 1714699026.339237,
  "filename": "status.md",
  "kernelspec": {
   "display_name": "Python",
   "language": "python3",
   "name": "python3"
  },
  "title": "Execution Statistics"
 },
 "nbformat": 4,
 "nbformat_minor": 5
}
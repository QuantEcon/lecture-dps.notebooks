{
 "cells": [
  {
   "cell_type": "markdown",
   "id": "55c667cb",
   "metadata": {},
   "source": [
    "# Advanced Dynamic Programming\n",
    "\n",
    "This website presents a set of lectures on advanced topics in dynamic programming."
   ]
  },
  {
   "cell_type": "markdown",
   "id": "6e4aaad2",
   "metadata": {},
   "source": [
    "# Dynamic Programming Squared\n",
    "\n",
    "- [Optimal Unemployment Insurance](https://dps.quantecon.org/un_insure.html)\n",
    "- [Stackelberg Plans](https://dps.quantecon.org/dyn_stack.html)\n",
    "- [Ramsey Plans, Time Inconsistency, Sustainable Plans](https://dps.quantecon.org/calvo.html)\n",
    "- [Optimal Taxation with State-Contingent Debt](https://dps.quantecon.org/opt_tax_recur.html)\n",
    "- [Optimal Taxation without State-Contingent Debt](https://dps.quantecon.org/amss.html)\n",
    "- [Fluctuating Interest Rates Deliver Fiscal Insurance](https://dps.quantecon.org/amss2.html)\n",
    "- [Fiscal Risk and Government Debt](https://dps.quantecon.org/amss3.html)\n",
    "- [Competitive Equilibria of a Model of Chang](https://dps.quantecon.org/chang_ramsey.html)\n",
    "- [Credible Government Policies in a Model of Chang](https://dps.quantecon.org/chang_credible.html)"
   ]
  },
  {
   "cell_type": "markdown",
   "id": "5dacc7b7",
   "metadata": {},
   "source": [
    "# Other\n",
    "\n",
    "- [Troubleshooting](https://dps.quantecon.org/troubleshooting.html)\n",
    "- [References](https://dps.quantecon.org/zreferences.html)\n",
    "- [Execution Statistics](https://dps.quantecon.org/status.html)"
   ]
  }
 ],
 "metadata": {
  "date": 1706657696.6427293,
  "filename": "intro.md",
  "kernelspec": {
   "display_name": "Python",
   "language": "python3",
   "name": "python3"
  },
  "title": "Advanced Dynamic Programming"
 },
 "nbformat": 4,
 "nbformat_minor": 5
}